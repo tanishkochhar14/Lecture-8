{
 "cells": [
  {
   "cell_type": "markdown",
   "id": "94762f1c",
   "metadata": {},
   "source": [
    "# Email Dictionaires for Each Divison"
   ]
  },
  {
   "cell_type": "code",
   "execution_count": 14,
   "id": "10e200f3",
   "metadata": {},
   "outputs": [],
   "source": [
    "div_a_scores_dictionary = {\"student_names\": [\"Harsha\", \"Ashwini\", \"Rohit\", \"Mahir\"],\n",
    "                          \"math_scores\": [50,75,65,70],\n",
    "                          \"chemistry_scores\": [80,75,90,65],\n",
    "                          \"information_technology_scores\": [40,45,50,65],\n",
    "                          \"physics_scores\": [86,64,55,45]}"
   ]
  },
  {
   "cell_type": "code",
   "execution_count": 15,
   "id": "d700202a",
   "metadata": {},
   "outputs": [],
   "source": [
    "div_b_scores_dictionary = {\"student_names\": [\"Harshad\", \"Ashwin\", \"Rohini\", \"Melina\"],\n",
    "                          \"math_scores\": [80,65,95,50],\n",
    "                          \"chemistry_scores\": [80,75,90,65],\n",
    "                          \"information_technology_scores\": [60,55,60,65],\n",
    "                          \"physics_scores\": [88,64,53,65]}"
   ]
  },
  {
   "cell_type": "code",
   "execution_count": 16,
   "id": "6540efb8",
   "metadata": {},
   "outputs": [],
   "source": [
    "div_c_scores_dictionary = {\"student_names\": [\"Sumit\", \"Tarak\", \"Param\", \"Satinder\"],\n",
    "                          \"math_scores\": [80,96,67,71],\n",
    "                          \"chemistry_scores\": [89,79,98,67],\n",
    "                          \"information_technology_scores\": [45,35,60,75],\n",
    "                          \"physics_scores\": [89,77,56,75]}"
   ]
  },
  {
   "cell_type": "markdown",
   "id": "dd8c5a7e",
   "metadata": {},
   "source": [
    "# Email Dictionaires for Each Divison                      "
   ]
  },
  {
   "cell_type": "code",
   "execution_count": 64,
   "id": "e06b8de5",
   "metadata": {},
   "outputs": [],
   "source": [
    "div_a_emails_dictionary = {\"student_names\": [\"Harsha\", \"Ashwini\", \"Rohit\", \"Mahir\"],\n",
    "                           \"student_email\": [\"Harsha@gmail.com\", \"Ashwini@gmail.com\", \"Rohit@gmail.com\", \"Mahir@gmail.com\"]\n",
    "                          }"
   ]
  },
  {
   "cell_type": "code",
   "execution_count": 65,
   "id": "d5d2a28a",
   "metadata": {},
   "outputs": [],
   "source": [
    "div_b_emails_dictionary = {\"student_names\": [\"Harshad\", \"Ashwin\", \"Rohini\", \"Melina\"],\n",
    "                           \"student_email\": [\"Harshad@gmail.com\", \"Ashwin@gmail.com\", \"Rohini@gmail.com\", \"Melina@gmail.com\"]\n",
    "                                             }                   "
   ]
  },
  {
   "cell_type": "code",
   "execution_count": 66,
   "id": "63c62f93",
   "metadata": {},
   "outputs": [],
   "source": [
    "div_c_emails_dictionary = {\"student_names\": [\"Sumit\", \"Tarak\", \"Param\", \"Satinder\"],\n",
    "                           \"student_email\": [\"Sumit@gmail.com\", \"Tarak@gmail.com\", \"Param@gmail.com\", \"Satinder@gmail.com\"]\n",
    "                          }"
   ]
  },
  {
   "cell_type": "markdown",
   "id": "58130744",
   "metadata": {},
   "source": [
    "# Get Scores Function"
   ]
  },
  {
   "cell_type": "code",
   "execution_count": 20,
   "id": "ca4f620d",
   "metadata": {},
   "outputs": [],
   "source": [
    "import pandas as pd"
   ]
  },
  {
   "cell_type": "code",
   "execution_count": 29,
   "id": "dccb3d6c",
   "metadata": {},
   "outputs": [],
   "source": [
    "def get_scores_df(report_card_dictionary, division_name):\n",
    "    \n",
    "    #Convert the Dictionary into a DataFrame\n",
    "    report_card_df = pd.DataFrame(report_card_dictionary)\n",
    "    \n",
    "    #Add the total score column\n",
    "    report_card_df[\"total_score\"] = report_card_df[\"math_scores\"] + report_card_df[\"chemistry_scores\"] + report_card_df[\"information_technology_scores\"] + report_card_df[\"physics_scores\"]\n",
    "    report_card_df.head(5)\n",
    "   \n",
    "    #Add the Average score column\n",
    "    report_card_df[\"average_score\"] = report_card_df[\"total_score\"]/4\n",
    "    report_card_df.loc[report_card_df[\"average_score\"]>=90, \"character_grade\"] = \"A\"\n",
    "    report_card_df.loc[(report_card_df[\"average_score\"]>=70)&(report_card_df[\"average_score\"]<90), \"character_grade\"] = \"B\"\n",
    "    report_card_df.loc[(report_card_df[\"average_score\"]>=50)&(report_card_df[\"average_score\"]<70), \"character_grade\"] = \"C\"\n",
    "    report_card_df.loc[(report_card_df[\"average_score\"]>=35)&(report_card_df[\"average_score\"]<50), \"character_grade\"] = \"D\"\n",
    "    report_card_df.loc[report_card_df[\"average_score\"]<35,\"character_grade\"] = \"F\"\n",
    "    \n",
    "    \n",
    "    #Add the pass fail column\n",
    "    report_card_df.loc[report_card_df[\"total_score\"]>=140, \"status\"] = \"pass\"\n",
    "    report_card_df.loc[report_card_df[\"total_score\"]<=140, \"status\"] = \"fail\"\n",
    "    \n",
    "    #Add the divison column\n",
    "    report_card_df [\"division\"] = division_name\n",
    "    \n",
    "    #Return the report card dataframe\n",
    "    return report_card_df"
   ]
  },
  {
   "cell_type": "code",
   "execution_count": 40,
   "id": "5b01085c",
   "metadata": {},
   "outputs": [
    {
     "data": {
      "text/html": [
       "<div>\n",
       "<style scoped>\n",
       "    .dataframe tbody tr th:only-of-type {\n",
       "        vertical-align: middle;\n",
       "    }\n",
       "\n",
       "    .dataframe tbody tr th {\n",
       "        vertical-align: top;\n",
       "    }\n",
       "\n",
       "    .dataframe thead th {\n",
       "        text-align: right;\n",
       "    }\n",
       "</style>\n",
       "<table border=\"1\" class=\"dataframe\">\n",
       "  <thead>\n",
       "    <tr style=\"text-align: right;\">\n",
       "      <th></th>\n",
       "      <th>student_names</th>\n",
       "      <th>math_scores</th>\n",
       "      <th>chemistry_scores</th>\n",
       "      <th>information_technology_scores</th>\n",
       "      <th>physics_scores</th>\n",
       "      <th>total_score</th>\n",
       "      <th>average_score</th>\n",
       "      <th>character_grade</th>\n",
       "      <th>status</th>\n",
       "      <th>division</th>\n",
       "    </tr>\n",
       "  </thead>\n",
       "  <tbody>\n",
       "    <tr>\n",
       "      <th>0</th>\n",
       "      <td>Harsha</td>\n",
       "      <td>50</td>\n",
       "      <td>80</td>\n",
       "      <td>40</td>\n",
       "      <td>86</td>\n",
       "      <td>256</td>\n",
       "      <td>64.00</td>\n",
       "      <td>C</td>\n",
       "      <td>pass</td>\n",
       "      <td>A</td>\n",
       "    </tr>\n",
       "    <tr>\n",
       "      <th>1</th>\n",
       "      <td>Ashwini</td>\n",
       "      <td>75</td>\n",
       "      <td>75</td>\n",
       "      <td>45</td>\n",
       "      <td>64</td>\n",
       "      <td>259</td>\n",
       "      <td>64.75</td>\n",
       "      <td>C</td>\n",
       "      <td>pass</td>\n",
       "      <td>A</td>\n",
       "    </tr>\n",
       "    <tr>\n",
       "      <th>2</th>\n",
       "      <td>Rohit</td>\n",
       "      <td>65</td>\n",
       "      <td>90</td>\n",
       "      <td>50</td>\n",
       "      <td>55</td>\n",
       "      <td>260</td>\n",
       "      <td>65.00</td>\n",
       "      <td>C</td>\n",
       "      <td>pass</td>\n",
       "      <td>A</td>\n",
       "    </tr>\n",
       "    <tr>\n",
       "      <th>3</th>\n",
       "      <td>Mahir</td>\n",
       "      <td>70</td>\n",
       "      <td>65</td>\n",
       "      <td>65</td>\n",
       "      <td>45</td>\n",
       "      <td>245</td>\n",
       "      <td>61.25</td>\n",
       "      <td>C</td>\n",
       "      <td>pass</td>\n",
       "      <td>A</td>\n",
       "    </tr>\n",
       "  </tbody>\n",
       "</table>\n",
       "</div>"
      ],
      "text/plain": [
       "  student_names  math_scores  chemistry_scores  information_technology_scores  \\\n",
       "0        Harsha           50                80                             40   \n",
       "1       Ashwini           75                75                             45   \n",
       "2         Rohit           65                90                             50   \n",
       "3         Mahir           70                65                             65   \n",
       "\n",
       "   physics_scores  total_score  average_score character_grade status division  \n",
       "0              86          256          64.00               C   pass        A  \n",
       "1              64          259          64.75               C   pass        A  \n",
       "2              55          260          65.00               C   pass        A  \n",
       "3              45          245          61.25               C   pass        A  "
      ]
     },
     "execution_count": 40,
     "metadata": {},
     "output_type": "execute_result"
    }
   ],
   "source": [
    "div_a_score_card = get_scores_df(div_a_scores_dictionary, \"A\")\n",
    "div_a_score_card"
   ]
  },
  {
   "cell_type": "markdown",
   "id": "2edb363d",
   "metadata": {},
   "source": [
    "# Get Emails DF Function"
   ]
  },
  {
   "cell_type": "code",
   "execution_count": 70,
   "id": "33557579",
   "metadata": {},
   "outputs": [],
   "source": [
    "def get_emails_df(emails_dictionary, division_name):\n",
    "    \n",
    "    #converting our dictionary into a dataframe\n",
    "    emails_df = pd.DataFrame(emails_dictionary)\n",
    "    \n",
    "    #add a division column to our emails dataframe\n",
    "    emails_df[\"division\"] = division_name\n",
    "    \n",
    "    #Convert all emails to lowercase \n",
    "    \n",
    "    emails_df[\"student_email\"] = emails_df[\"student_email\"].str.lower()\n",
    "     \n",
    "    #Converting all emails into lowercase\n",
    "    return emails_df"
   ]
  },
  {
   "cell_type": "code",
   "execution_count": 71,
   "id": "fc9b6d3d",
   "metadata": {},
   "outputs": [
    {
     "data": {
      "text/html": [
       "<div>\n",
       "<style scoped>\n",
       "    .dataframe tbody tr th:only-of-type {\n",
       "        vertical-align: middle;\n",
       "    }\n",
       "\n",
       "    .dataframe tbody tr th {\n",
       "        vertical-align: top;\n",
       "    }\n",
       "\n",
       "    .dataframe thead th {\n",
       "        text-align: right;\n",
       "    }\n",
       "</style>\n",
       "<table border=\"1\" class=\"dataframe\">\n",
       "  <thead>\n",
       "    <tr style=\"text-align: right;\">\n",
       "      <th></th>\n",
       "      <th>student_names</th>\n",
       "      <th>student_email</th>\n",
       "      <th>division</th>\n",
       "    </tr>\n",
       "  </thead>\n",
       "  <tbody>\n",
       "    <tr>\n",
       "      <th>0</th>\n",
       "      <td>Harsha</td>\n",
       "      <td>harsha@gmail.com</td>\n",
       "      <td>A</td>\n",
       "    </tr>\n",
       "    <tr>\n",
       "      <th>1</th>\n",
       "      <td>Ashwini</td>\n",
       "      <td>ashwini@gmail.com</td>\n",
       "      <td>A</td>\n",
       "    </tr>\n",
       "    <tr>\n",
       "      <th>2</th>\n",
       "      <td>Rohit</td>\n",
       "      <td>rohit@gmail.com</td>\n",
       "      <td>A</td>\n",
       "    </tr>\n",
       "    <tr>\n",
       "      <th>3</th>\n",
       "      <td>Mahir</td>\n",
       "      <td>mahir@gmail.com</td>\n",
       "      <td>A</td>\n",
       "    </tr>\n",
       "  </tbody>\n",
       "</table>\n",
       "</div>"
      ],
      "text/plain": [
       "  student_names      student_email division\n",
       "0        Harsha   harsha@gmail.com        A\n",
       "1       Ashwini  ashwini@gmail.com        A\n",
       "2         Rohit    rohit@gmail.com        A\n",
       "3         Mahir    mahir@gmail.com        A"
      ]
     },
     "execution_count": 71,
     "metadata": {},
     "output_type": "execute_result"
    }
   ],
   "source": [
    "division_a_emails_df = get_emails_df(div_a_emails_dictionary, \"A\")\n",
    "division_a_emails_df"
   ]
  },
  {
   "cell_type": "code",
   "execution_count": 72,
   "id": "7c7e6620",
   "metadata": {},
   "outputs": [
    {
     "data": {
      "text/html": [
       "<div>\n",
       "<style scoped>\n",
       "    .dataframe tbody tr th:only-of-type {\n",
       "        vertical-align: middle;\n",
       "    }\n",
       "\n",
       "    .dataframe tbody tr th {\n",
       "        vertical-align: top;\n",
       "    }\n",
       "\n",
       "    .dataframe thead th {\n",
       "        text-align: right;\n",
       "    }\n",
       "</style>\n",
       "<table border=\"1\" class=\"dataframe\">\n",
       "  <thead>\n",
       "    <tr style=\"text-align: right;\">\n",
       "      <th></th>\n",
       "      <th>student_names</th>\n",
       "      <th>student_email</th>\n",
       "      <th>division</th>\n",
       "    </tr>\n",
       "  </thead>\n",
       "  <tbody>\n",
       "    <tr>\n",
       "      <th>0</th>\n",
       "      <td>Harsha</td>\n",
       "      <td>harsha@gmail.com</td>\n",
       "      <td>B</td>\n",
       "    </tr>\n",
       "    <tr>\n",
       "      <th>1</th>\n",
       "      <td>Ashwini</td>\n",
       "      <td>ashwini@gmail.com</td>\n",
       "      <td>B</td>\n",
       "    </tr>\n",
       "    <tr>\n",
       "      <th>2</th>\n",
       "      <td>Rohit</td>\n",
       "      <td>rohit@gmail.com</td>\n",
       "      <td>B</td>\n",
       "    </tr>\n",
       "    <tr>\n",
       "      <th>3</th>\n",
       "      <td>Mahir</td>\n",
       "      <td>mahir@gmail.com</td>\n",
       "      <td>B</td>\n",
       "    </tr>\n",
       "  </tbody>\n",
       "</table>\n",
       "</div>"
      ],
      "text/plain": [
       "  student_names      student_email division\n",
       "0        Harsha   harsha@gmail.com        B\n",
       "1       Ashwini  ashwini@gmail.com        B\n",
       "2         Rohit    rohit@gmail.com        B\n",
       "3         Mahir    mahir@gmail.com        B"
      ]
     },
     "execution_count": 72,
     "metadata": {},
     "output_type": "execute_result"
    }
   ],
   "source": [
    "division_b_emails_df = get_emails_df(div_a_emails_dictionary, \"B\")\n",
    "division_b_emails_df"
   ]
  },
  {
   "cell_type": "code",
   "execution_count": 73,
   "id": "d27fa81c",
   "metadata": {},
   "outputs": [
    {
     "data": {
      "text/html": [
       "<div>\n",
       "<style scoped>\n",
       "    .dataframe tbody tr th:only-of-type {\n",
       "        vertical-align: middle;\n",
       "    }\n",
       "\n",
       "    .dataframe tbody tr th {\n",
       "        vertical-align: top;\n",
       "    }\n",
       "\n",
       "    .dataframe thead th {\n",
       "        text-align: right;\n",
       "    }\n",
       "</style>\n",
       "<table border=\"1\" class=\"dataframe\">\n",
       "  <thead>\n",
       "    <tr style=\"text-align: right;\">\n",
       "      <th></th>\n",
       "      <th>student_names</th>\n",
       "      <th>student_email</th>\n",
       "      <th>division</th>\n",
       "    </tr>\n",
       "  </thead>\n",
       "  <tbody>\n",
       "    <tr>\n",
       "      <th>0</th>\n",
       "      <td>Harsha</td>\n",
       "      <td>harsha@gmail.com</td>\n",
       "      <td>C</td>\n",
       "    </tr>\n",
       "    <tr>\n",
       "      <th>1</th>\n",
       "      <td>Ashwini</td>\n",
       "      <td>ashwini@gmail.com</td>\n",
       "      <td>C</td>\n",
       "    </tr>\n",
       "    <tr>\n",
       "      <th>2</th>\n",
       "      <td>Rohit</td>\n",
       "      <td>rohit@gmail.com</td>\n",
       "      <td>C</td>\n",
       "    </tr>\n",
       "    <tr>\n",
       "      <th>3</th>\n",
       "      <td>Mahir</td>\n",
       "      <td>mahir@gmail.com</td>\n",
       "      <td>C</td>\n",
       "    </tr>\n",
       "  </tbody>\n",
       "</table>\n",
       "</div>"
      ],
      "text/plain": [
       "  student_names      student_email division\n",
       "0        Harsha   harsha@gmail.com        C\n",
       "1       Ashwini  ashwini@gmail.com        C\n",
       "2         Rohit    rohit@gmail.com        C\n",
       "3         Mahir    mahir@gmail.com        C"
      ]
     },
     "execution_count": 73,
     "metadata": {},
     "output_type": "execute_result"
    }
   ],
   "source": [
    "division_c_emails_df = get_emails_df(div_a_emails_dictionary, \"C\")\n",
    "division_c_emails_df"
   ]
  },
  {
   "cell_type": "markdown",
   "id": "59549a1d",
   "metadata": {},
   "source": [
    "# Get Scores and Emails DF Function"
   ]
  },
  {
   "cell_type": "code",
   "execution_count": 81,
   "id": "66be98d8",
   "metadata": {},
   "outputs": [],
   "source": [
    "def get_scores_emails_df(scores_dictionary, emails_dictionary, division_name):\n",
    "    \n",
    "    #Step 1: Make the scores dictionary into a scorecard dataframe\n",
    "    score_card_df = get_scores_df(scores_dictionary, division_name)\n",
    "    \n",
    "    #Step 2: Make the emails dictionary into a emails dataframe.\n",
    "    emails_df = get_emails_df(emails_dictionary, division_name)\n",
    "    \n",
    "    #Step 3: Merge the scores dataframe with the emails dataframe\n",
    "    score_card_email_df = pd.merge(score_card_df, emails_df, how = \"left\", on = [\"student_names\", \"division\"])\n",
    "    \n",
    "    return score_card_email_df"
   ]
  },
  {
   "cell_type": "code",
   "execution_count": 82,
   "id": "0d5fc0e8",
   "metadata": {},
   "outputs": [
    {
     "data": {
      "text/html": [
       "<div>\n",
       "<style scoped>\n",
       "    .dataframe tbody tr th:only-of-type {\n",
       "        vertical-align: middle;\n",
       "    }\n",
       "\n",
       "    .dataframe tbody tr th {\n",
       "        vertical-align: top;\n",
       "    }\n",
       "\n",
       "    .dataframe thead th {\n",
       "        text-align: right;\n",
       "    }\n",
       "</style>\n",
       "<table border=\"1\" class=\"dataframe\">\n",
       "  <thead>\n",
       "    <tr style=\"text-align: right;\">\n",
       "      <th></th>\n",
       "      <th>student_names</th>\n",
       "      <th>math_scores</th>\n",
       "      <th>chemistry_scores</th>\n",
       "      <th>information_technology_scores</th>\n",
       "      <th>physics_scores</th>\n",
       "      <th>total_score</th>\n",
       "      <th>average_score</th>\n",
       "      <th>character_grade</th>\n",
       "      <th>status</th>\n",
       "      <th>division</th>\n",
       "      <th>student_email</th>\n",
       "    </tr>\n",
       "  </thead>\n",
       "  <tbody>\n",
       "    <tr>\n",
       "      <th>0</th>\n",
       "      <td>Harsha</td>\n",
       "      <td>50</td>\n",
       "      <td>80</td>\n",
       "      <td>40</td>\n",
       "      <td>86</td>\n",
       "      <td>256</td>\n",
       "      <td>64.00</td>\n",
       "      <td>C</td>\n",
       "      <td>pass</td>\n",
       "      <td>A</td>\n",
       "      <td>harsha@gmail.com</td>\n",
       "    </tr>\n",
       "    <tr>\n",
       "      <th>1</th>\n",
       "      <td>Ashwini</td>\n",
       "      <td>75</td>\n",
       "      <td>75</td>\n",
       "      <td>45</td>\n",
       "      <td>64</td>\n",
       "      <td>259</td>\n",
       "      <td>64.75</td>\n",
       "      <td>C</td>\n",
       "      <td>pass</td>\n",
       "      <td>A</td>\n",
       "      <td>ashwini@gmail.com</td>\n",
       "    </tr>\n",
       "    <tr>\n",
       "      <th>2</th>\n",
       "      <td>Rohit</td>\n",
       "      <td>65</td>\n",
       "      <td>90</td>\n",
       "      <td>50</td>\n",
       "      <td>55</td>\n",
       "      <td>260</td>\n",
       "      <td>65.00</td>\n",
       "      <td>C</td>\n",
       "      <td>pass</td>\n",
       "      <td>A</td>\n",
       "      <td>rohit@gmail.com</td>\n",
       "    </tr>\n",
       "    <tr>\n",
       "      <th>3</th>\n",
       "      <td>Mahir</td>\n",
       "      <td>70</td>\n",
       "      <td>65</td>\n",
       "      <td>65</td>\n",
       "      <td>45</td>\n",
       "      <td>245</td>\n",
       "      <td>61.25</td>\n",
       "      <td>C</td>\n",
       "      <td>pass</td>\n",
       "      <td>A</td>\n",
       "      <td>mahir@gmail.com</td>\n",
       "    </tr>\n",
       "  </tbody>\n",
       "</table>\n",
       "</div>"
      ],
      "text/plain": [
       "  student_names  math_scores  chemistry_scores  information_technology_scores  \\\n",
       "0        Harsha           50                80                             40   \n",
       "1       Ashwini           75                75                             45   \n",
       "2         Rohit           65                90                             50   \n",
       "3         Mahir           70                65                             65   \n",
       "\n",
       "   physics_scores  total_score  average_score character_grade status division  \\\n",
       "0              86          256          64.00               C   pass        A   \n",
       "1              64          259          64.75               C   pass        A   \n",
       "2              55          260          65.00               C   pass        A   \n",
       "3              45          245          61.25               C   pass        A   \n",
       "\n",
       "       student_email  \n",
       "0   harsha@gmail.com  \n",
       "1  ashwini@gmail.com  \n",
       "2    rohit@gmail.com  \n",
       "3    mahir@gmail.com  "
      ]
     },
     "execution_count": 82,
     "metadata": {},
     "output_type": "execute_result"
    }
   ],
   "source": [
    "get_scores_emails_df(div_a_scores_dictionary, div_a_emails_dictionary, \"A\")"
   ]
  },
  {
   "cell_type": "markdown",
   "id": "8714ecda",
   "metadata": {},
   "source": [
    "# Get All Divisions DF Function"
   ]
  },
  {
   "cell_type": "code",
   "execution_count": 83,
   "id": "18593d24",
   "metadata": {},
   "outputs": [],
   "source": [
    "def get_all_divisions_df(div_1_scores_dictionary, div_1_emails_dictionary, div_1_name,\n",
    "                         div_2_scores_dictionary, div_2_emails_dictionary, div_2_name,\n",
    "                         div_3_scores_dictionary, div_3_emails_dictionary, div_3_name):\n",
    "    \n",
    "    div_1_df = get_scores__emails_df(div_1_scores_dictionary, div_1_emails_dictionary, div_1_name)\n",
    "    div_2_df = get_scores__emails_df(div_2_scores_dictionary, div_2_emails_dictionary, div_2_name)\n",
    "    div_3_df = get_scores__emails_df(div_3_scores_dictionary, div_3_emails_dictionary, div_3_name)\n",
    "    \n",
    "    all_div_df = pd.concat([div_1_df, div_2_df, div_3_df], ignore_index=True)\n",
    "    \n",
    "    return all_div_df\n",
    "                         "
   ]
  },
  {
   "cell_type": "code",
   "execution_count": 84,
   "id": "a4595dfc",
   "metadata": {},
   "outputs": [
    {
     "ename": "NameError",
     "evalue": "name 'div_a_score_dictionary' is not defined",
     "output_type": "error",
     "traceback": [
      "\u001b[1;31m---------------------------------------------------------------------------\u001b[0m",
      "\u001b[1;31mNameError\u001b[0m                                 Traceback (most recent call last)",
      "\u001b[1;32m<ipython-input-84-b7c39d67b7e3>\u001b[0m in \u001b[0;36m<module>\u001b[1;34m\u001b[0m\n\u001b[1;32m----> 1\u001b[1;33m get_all_divisions_df(div_a_score_dictionary, div_a_email_dictionary, \"A\",\n\u001b[0m\u001b[0;32m      2\u001b[0m                      \u001b[0mdiv_a_score_dictionary\u001b[0m\u001b[1;33m,\u001b[0m \u001b[0mdiv_a_email_dictionary\u001b[0m\u001b[1;33m,\u001b[0m \u001b[1;34m\"B\"\u001b[0m\u001b[1;33m,\u001b[0m\u001b[1;33m\u001b[0m\u001b[1;33m\u001b[0m\u001b[0m\n\u001b[0;32m      3\u001b[0m                      div_a_score_dictionary, div_a_email_dictionary, \"C\")\n",
      "\u001b[1;31mNameError\u001b[0m: name 'div_a_score_dictionary' is not defined"
     ]
    }
   ],
   "source": [
    "get_all_divisions_df(div_a_score_dictionary, div_a_email_dictionary, \"A\",\n",
    "                     div_a_score_dictionary, div_a_email_dictionary, \"B\",\n",
    "                     div_a_score_dictionary, div_a_email_dictionary, \"C\")"
   ]
  },
  {
   "cell_type": "markdown",
   "id": "6b05a3bd",
   "metadata": {},
   "source": [
    "# Save All Div Insights Function"
   ]
  },
  {
   "cell_type": "code",
   "execution_count": 86,
   "id": "988ade1e",
   "metadata": {},
   "outputs": [
    {
     "ename": "SyntaxError",
     "evalue": "invalid syntax (<ipython-input-86-4c29255829a4>, line 6)",
     "output_type": "error",
     "traceback": [
      "\u001b[1;36m  File \u001b[1;32m\"<ipython-input-86-4c29255829a4>\"\u001b[1;36m, line \u001b[1;32m6\u001b[0m\n\u001b[1;33m    div_2_df = get_scores__emails_df(div_2_scores_dictionary, div_2_emails_dictionary, div_2_name)\u001b[0m\n\u001b[1;37m    ^\u001b[0m\n\u001b[1;31mSyntaxError\u001b[0m\u001b[1;31m:\u001b[0m invalid syntax\n"
     ]
    }
   ],
   "source": [
    "def save_all_div_insights_df(div_1_scores_dictionary, div_1_emails_dictionary, div_1_name,\n",
    "                             div_2_scores_dictionary, div_2_emails_dictionary, div_2_name,\n",
    "                             div_3_scores_dictionary, div_3_emails_dictionary, div_3_name:\n",
    "                             \n",
    "    div_1_df = get_scores__emails_df(div_1_scores_dictionary, div_1_emails_dictionary, div_1_name)\n",
    "    div_2_df = get_scores__emails_df(div_2_scores_dictionary, div_2_emails_dictionary, div_2_name)\n",
    "    div_3_df = get_scores__emails_df(div_3_scores_dictionary, div_3_emails_dictionary, div_3_name)\n",
    "                             \n",
    "    all_div_df = pd.concat([div_1_df, div_2_df, div_3_df], ignore_index=True)\n",
    "                             \n",
    "    insights_df = all_div_df.describe()\n",
    "                             \n",
    "    insights_df.to_cav(\"All Division Insights.csv\")"
   ]
  },
  {
   "cell_type": "code",
   "execution_count": 87,
   "id": "acc8e292",
   "metadata": {},
   "outputs": [
    {
     "ename": "NameError",
     "evalue": "name 'save_all_div_insights_df' is not defined",
     "output_type": "error",
     "traceback": [
      "\u001b[1;31m---------------------------------------------------------------------------\u001b[0m",
      "\u001b[1;31mNameError\u001b[0m                                 Traceback (most recent call last)",
      "\u001b[1;32m<ipython-input-87-ac683b446643>\u001b[0m in \u001b[0;36m<module>\u001b[1;34m\u001b[0m\n\u001b[1;32m----> 1\u001b[1;33m save_all_div_insights_df(div_a_score_dictionary, div_a_email_dictionary, \"A\",\n\u001b[0m\u001b[0;32m      2\u001b[0m                          \u001b[0mdiv_a_score_dictionary\u001b[0m\u001b[1;33m,\u001b[0m \u001b[0mdiv_a_email_dictionary\u001b[0m\u001b[1;33m,\u001b[0m \u001b[1;34m\"B\"\u001b[0m\u001b[1;33m,\u001b[0m\u001b[1;33m\u001b[0m\u001b[1;33m\u001b[0m\u001b[0m\n\u001b[0;32m      3\u001b[0m                          div_a_score_dictionary, div_a_email_dictionary, \"C\")\n",
      "\u001b[1;31mNameError\u001b[0m: name 'save_all_div_insights_df' is not defined"
     ]
    }
   ],
   "source": [
    "save_all_div_insights_df(div_a_score_dictionary, div_a_email_dictionary, \"A\",\n",
    "                         div_a_score_dictionary, div_a_email_dictionary, \"B\",\n",
    "                         div_a_score_dictionary, div_a_email_dictionary, \"C\")"
   ]
  },
  {
   "cell_type": "code",
   "execution_count": null,
   "id": "54867e65",
   "metadata": {},
   "outputs": [],
   "source": []
  }
 ],
 "metadata": {
  "kernelspec": {
   "display_name": "Python 3",
   "language": "python",
   "name": "python3"
  },
  "language_info": {
   "codemirror_mode": {
    "name": "ipython",
    "version": 3
   },
   "file_extension": ".py",
   "mimetype": "text/x-python",
   "name": "python",
   "nbconvert_exporter": "python",
   "pygments_lexer": "ipython3",
   "version": "3.8.8"
  }
 },
 "nbformat": 4,
 "nbformat_minor": 5
}
